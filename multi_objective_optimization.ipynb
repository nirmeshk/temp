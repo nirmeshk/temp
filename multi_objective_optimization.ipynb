{
 "metadata": {
  "name": ""
 },
 "nbformat": 3,
 "nbformat_minor": 0,
 "worksheets": [
  {
   "cells": [
    {
     "cell_type": "code",
     "collapsed": false,
     "input": [
      "from __future__ import division\n",
      "from PyGMO import problem\n",
      "from PyGMO import algorithm\n",
      "from PyGMO import island\n",
      "from PyGMO import population\n",
      "import math\n",
      "%matplotlib inline  \n",
      "\n",
      "class schaffer_function(problem.base):\n",
      "    \"\"\" Schaffer Function With 2 objectives.\n",
      "    Reference: http://en.wikipedia.org/wiki/Test_functions_for_optimization#Test_functions_for_single-objective_optimization_problems \"\"\"\n",
      "  \n",
      "    def __init__(self):\n",
      "        dim = 1 # n = 1 schaffer function \n",
      "        #Important: For multi objective optimisation, \n",
      "        #you need to pass number of objectives to the constructor of super class\n",
      "        super(schaffer_function,self).__init__(dim,0,2)\n",
      "        self.set_bounds(-10,10)\n",
      "        self.__dim = dim\n",
      "    \n",
      "    def _objfun_impl(self, x): \n",
      "        f1 = x[0]**2\n",
      "        f2 = (x[0] - 2)**2 \n",
      "        return (f1,f2)\n",
      " \n",
      "    def human_readable_extra(self):\n",
      "        text = \"\"\"\\tProblem dimension: %s\n",
      "        Implemented function: f1 = x^2, f2 = (x-2)^2 (Schaffer)\"\"\" % str(self.__dim)\n",
      "        return text\n",
      "\n",
      "class zdt_1(problem.base):\n",
      "    def __init__(self):\n",
      "        dim = 30 # n = 30 ZDT1 function \n",
      "        super(zdt_1,self).__init__(dim,0,2)\n",
      "        self.set_bounds(0,1)\n",
      "        self.__dim = dim\n",
      "    \n",
      "    def _objfun_impl(self, x):\n",
      "        f1 = x[0]\n",
      "        sum_2_to_n = 0\n",
      "        for i in range(1,self.__dim):\n",
      "            sum_2_to_n += x[i]   \n",
      "        g = 1 + 9/(self.__dim - 1)*sum_2_to_n \n",
      "        f2 = g * ( 1 - math.sqrt(x[0]/g) ) \n",
      "        return (f1,f2)\n",
      "\n",
      "    def human_readable_extra(self):\n",
      "        text = \"\"\"\\tProblem dimension: %s\n",
      "        Implemented function: f1 = x1, f2 = g * ( 1 - math.sqrt(x1/g) ) (ZDT1)\"\"\" % str(self.__dim)\n",
      "        return text\n",
      "    "
     ],
     "language": "python",
     "metadata": {},
     "outputs": [],
     "prompt_number": 30
    },
    {
     "cell_type": "code",
     "collapsed": false,
     "input": [
      "if __name__ == '__main__':\n",
      "\n",
      "    print(\"############### NSGA-II ##########################\")\n",
      "    algo = algorithm.nsga_II(gen = 250)\n",
      "    prob1 = schaffer_function()\n",
      "    print(prob1)\n",
      "    \n",
      "    pop = population(prob1,100)\n",
      "    isl = island(algo,pop)\n",
      "    isl.evolve(1)\n",
      "    \n",
      "    isl.population.plot_pareto_fronts()"
     ],
     "language": "python",
     "metadata": {},
     "outputs": [
      {
       "output_type": "stream",
       "stream": "stdout",
       "text": [
        "############### NSGA-II ##########################\n",
        "Problem name: <class '__main__.schaffer_function'>\n",
        "\tGlobal dimension:\t\t\t1\n",
        "\tInteger dimension:\t\t\t0\n",
        "\tFitness dimension:\t\t\t2\n",
        "\tConstraints dimension:\t\t\t0\n",
        "\tInequality constraints dimension:\t0\n",
        "\tLower bounds: [-10]\n",
        "\tUpper bounds: [10]\n",
        "\tConstraints tolerance: []\n",
        "\tProblem dimension: 1\n",
        "        Implemented function: f1 = x^2, f2 = (x-2)^2 (Schaffer)\n"
       ]
      },
      {
       "metadata": {},
       "output_type": "display_data",
       "png": "[encoded data removed]",
       "text": [
        "<matplotlib.figure.Figure at 0x7f1100350910>"
       ]
      }
     ],
     "prompt_number": 31
    },
    {
     "cell_type": "code",
     "collapsed": false,
     "input": [
      "    prob2 = zdt_1()\n",
      "    print(prob2)\n",
      "    \n",
      "    pop2 = population(prob2,100)\n",
      "    isl2 = island(algo,pop2)\n",
      "    isl2.evolve(1)\n",
      "    \n",
      "    isl2.population.plot_pareto_fronts()"
     ],
     "language": "python",
     "metadata": {},
     "outputs": [
      {
       "output_type": "stream",
       "stream": "stdout",
       "text": [
        "Problem name: <class '__main__.zdt_1'>\n",
        "\tGlobal dimension:\t\t\t30\n",
        "\tInteger dimension:\t\t\t0\n",
        "\tFitness dimension:\t\t\t2\n",
        "\tConstraints dimension:\t\t\t0\n",
        "\tInequality constraints dimension:\t0\n",
        "\tLower bounds: [0, 0, 0, 0, 0,  ... ]\n",
        "\tUpper bounds: [1, 1, 1, 1, 1,  ... ]\n",
        "\tConstraints tolerance: []\n",
        "\tProblem dimension: 30\n",
        "        Implemented function: f1 = x1, f2 = g * ( 1 - math.sqrt(x1/g) ) (ZDT1)\n"
       ]
      },
      {
       "metadata": {},
       "output_type": "pyout",
       "prompt_number": 32,
       "text": [
        "[<matplotlib.lines.Line2D at 0x7f10fffce750>]"
       ]
      },
      {
       "metadata": {},
       "output_type": "display_data",
       "png": "[encoded data removed]",
       "text": [
        "<matplotlib.figure.Figure at 0x7f11002f7cd0>"
       ]
      }
     ],
     "prompt_number": 32
    },
    {
     "cell_type": "code",
     "collapsed": false,
     "input": [],
     "language": "python",
     "metadata": {},
     "outputs": []
    }
   ],
   "metadata": {}
  }
 ]
}