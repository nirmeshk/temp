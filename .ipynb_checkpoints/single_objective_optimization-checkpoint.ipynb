{
 "metadata": {
  "name": ""
 },
 "nbformat": 3,
 "nbformat_minor": 0,
 "worksheets": [
  {
   "cells": [
    {
     "cell_type": "code",
     "collapsed": false,
     "input": [
      "from __future__ import division\n",
      "from PyGMO import problem\n",
      "from PyGMO import algorithm\n",
      "from PyGMO import island\n",
      "import math\n",
      "from misc_library import *\n",
      "\n",
      "class schaffer_function_n2(problem.base):\n",
      "    \"\"\" Schaffer Function N.2\n",
      "    Reference: http://en.wikipedia.org/wiki/Test_functions_for_optimization#Test_functions_for_single-objective_optimization_problems \"\"\"\n",
      "  \n",
      "    def __init__(self):\n",
      "        #First we call the constructor of the base class telling\n",
      "        #essentially to PyGMO what kind of problem to expect (1 objective, 0 contraints etc.)\n",
      "        dim = 2 #This is schaffer_function with 2 dimensions\n",
      "        super(schaffer_function_n2,self).__init__(dim)\n",
      "        #then we set the problem bounds (in this case equal for all components)\n",
      "        self.set_bounds(-100,100)\n",
      "        #define instance variable dim\n",
      "        self.__dim = dim\n",
      "    \n",
      "    #We reimplement the virtual method that defines the objective function.\n",
      "    def _objfun_impl(self, candidate):\n",
      "        x = candidate[0]\n",
      "        y = candidate[1]\n",
      "        f = 0.5 + (math.sin(x**2 - y**2)**2 - 0.5) / ( 1 + 0.001*(x**2 + y**2) )**2\n",
      "        return (f,)\n",
      "    \n",
      "    #Finally we also reimplement a virtual method that adds some output to the __repr__ method\n",
      "    def human_readable_extra(self):\n",
      "        text = \"\"\"\\tProblem dimension: %s\n",
      "        Implemented function: \n",
      "            f = 0.5 + (math.sin(x**2 - y**2)**2 - 0.5) / ( 1 + 0.001*(x**2 + y**2) )**2 \"\"\" % str(self.__dim)\n",
      "        return text\n",
      "\n",
      "class sphere_function(problem.base):\n",
      "    \"\"\" Sphere Function N dimension\n",
      "    Reference: http://en.wikipedia.org/wiki/Test_functions_for_optimization#Test_functions_for_single-objective_optimization_problems \"\"\"\n",
      "  \n",
      "    def __init__(self, dim = 10):\n",
      "        super(sphere_function,self).__init__(dim)\n",
      "        self.set_bounds(-100,100)\n",
      "        self.__dim = dim\n",
      "    \n",
      "    def _objfun_impl(self, x):\n",
      "        f = 0\n",
      "        for i in range(self.__dim):\n",
      "            f += x[i]**2\n",
      "        return (f,)\n",
      "    \n",
      "    def human_readable_extra(self):\n",
      "        text = \"\"\"\\tProblem dimension: %s \n",
      "        Implemented function: f = x^2\"\"\" % str(self.__dim)\n",
      "        return text\n"
     ],
     "language": "python",
     "metadata": {},
     "outputs": [],
     "prompt_number": 1
    },
    {
     "cell_type": "code",
     "collapsed": false,
     "input": [
      "if __name__ == '__main__':\n",
      "\n",
      "    print(\"############### Differential Evolution ##########################\") \n",
      "    algo = algorithm.de(gen = 500)\n",
      "    results_de_schaffer = []\n",
      "    results_de_sphere = []\n",
      "    \n",
      "    for i in range(30):\n",
      "        prob = schaffer_function_n2()\n",
      "        #print(\"\\nSchaffer Function\")\n",
      "        #print(prob)\n",
      "        isl = island(algo,prob,50)\n",
      "        #print(\"Before optimisation: \" +  str(isl.population.champion.f[0]) )\n",
      "        isl.evolve(10)\n",
      "        results_de_schaffer.append( round(isl.population.champion.f[0], 5) )\n",
      "        #print(\"After optimisation: \" + str( isl.population.champion.f[0]) + '\\n')\n",
      "        #print(\"=\"*70 + '\\n')\n",
      "        #print(\"Sphere Function\")\n",
      "        prob2 = sphere_function(dim=100)\n",
      "        #print(prob2)\n",
      "        isl2 = island(algo,prob2,50)\n",
      "        #print(\"Before optimisation: \" + str(isl2.population.champion.f[0]))\n",
      "        isl2.evolve(10)\n",
      "        results_de_sphere.append( round(isl2.population.champion.f[0],5) )\n",
      "        #print(\"After optimisation: \" + str(isl2.population.champion.f[0]))\n",
      "    print(\"\\nSchaffer Function:\\n\")\n",
      "    print(xtile(results_de_schaffer))\n",
      "    print(\"\\nSphere Function:\\n\")\n",
      "    print(xtile(results_de_sphere))"
     ],
     "language": "python",
     "metadata": {},
     "outputs": [
      {
       "output_type": "stream",
       "stream": "stdout",
       "text": [
        "############### Differential Evolution ##########################\n",
        "\n",
        "Schaffer Function:\n"
       ]
      },
      {
       "output_type": "stream",
       "stream": "stdout",
       "text": [
        "\n",
        "*                        |                        ,   0,    0,    0,    0,    0\n",
        "\n",
        "Sphere Function:\n",
        "\n",
        "*                        |                        ,   0,    0,    0,    0,    0\n"
       ]
      }
     ],
     "prompt_number": 4
    },
    {
     "cell_type": "code",
     "collapsed": false,
     "input": [
      "    print(\"############### Simulated Anealing ##########################\")\n",
      "    algo3 = algorithm.sa_corana()\n",
      "    results_sae_schaffer = []\n",
      "    results_sae_sphere = []\n",
      "    \n",
      "    for i in range(30):        \n",
      "        isl3 = island(algo3,prob,50)\n",
      "        #print(prob)\n",
      "        #print(\"Before optimisation: \" + str(isl3.population.champion.f[0]) )\n",
      "        isl3.evolve(10)\n",
      "        results_sae_schaffer.append( round(isl3.population.champion.f[0], 5) )\n",
      "        #print(\"After optimisation: \" + str(isl3.population.champion.f[0]) ) \n",
      "        #print('\\n' + \"=\"*70 + '\\n')     \n",
      "        #print(prob2)\n",
      "        isl4 = island(algo3,prob2,50)\n",
      "        #print(\"Before optimisation: \" + str(isl4.population.champion.f[0]) )\n",
      "        isl4.evolve(10)\n",
      "        results_sae_sphere.append( round(isl4.population.champion.f[0], 5) )\n",
      "        #print(\"After optimisation: \" + str(isl4.population.champion.f[0]))\n",
      "    print(\"\\nSchaffer Function:\\n\")   \n",
      "    print(xtile(results_sae_schaffer))\n",
      "    print(\"\\nSphere Function:\\n\")\n",
      "    print(xtile(results_sae_sphere))\n",
      "    "
     ],
     "language": "python",
     "metadata": {},
     "outputs": [
      {
       "output_type": "stream",
       "stream": "stdout",
       "text": [
        "############### Simulated Anealing ##########################\n",
        "\n",
        "Schaffer Function\n",
        "Problem name: <class '__main__.schaffer_function_n2'>\n",
        "\tGlobal dimension:\t\t\t2\n",
        "\tInteger dimension:\t\t\t0\n",
        "\tFitness dimension:\t\t\t1\n",
        "\tConstraints dimension:\t\t\t0\n",
        "\tInequality constraints dimension:\t0\n",
        "\tLower bounds: [-100, -100]\n",
        "\tUpper bounds: [100, 100]\n",
        "\tConstraints tolerance: []\n",
        "\tProblem dimension: 2\n",
        "        Implemented function: \n",
        "            f = 0.5 + (math.sin(x**2 - y**2)**2 - 0.5) / ( 1 + 0.001*(x**2 + y**2) )**2 \n",
        "Before optimisation: 0.421931492414\n",
        "After optimisation: 0.0863081452771"
       ]
      },
      {
       "output_type": "stream",
       "stream": "stdout",
       "text": [
        "\n",
        "\n",
        "======================================================================\n",
        "\n",
        "Sphere Function\n",
        "Problem name: <class '__main__.sphere_function'>\n",
        "\tGlobal dimension:\t\t\t100\n",
        "\tInteger dimension:\t\t\t0\n",
        "\tFitness dimension:\t\t\t1\n",
        "\tConstraints dimension:\t\t\t0\n",
        "\tInequality constraints dimension:\t0\n",
        "\tLower bounds: [-100, -100, -100, -100, -100,  ... ]\n",
        "\tUpper bounds: [100, 100, 100, 100, 100,  ... ]\n",
        "\tConstraints tolerance: []\n",
        "\tProblem dimension: 100 \n",
        "        Implemented function: f = x^2\n",
        "Before optimisation: 273227.195187\n",
        "After optimisation: 11.6995609842"
       ]
      },
      {
       "output_type": "stream",
       "stream": "stdout",
       "text": [
        "\n"
       ]
      }
     ],
     "prompt_number": 35
    },
    {
     "cell_type": "code",
     "collapsed": false,
     "input": [],
     "language": "python",
     "metadata": {},
     "outputs": []
    }
   ],
   "metadata": {}
  }
 ]
}